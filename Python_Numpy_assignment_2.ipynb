{
 "cells": [
  {
   "cell_type": "code",
   "execution_count": 24,
   "id": "2b6eb175",
   "metadata": {},
   "outputs": [],
   "source": [
    "import numpy as np"
   ]
  },
  {
   "cell_type": "code",
   "execution_count": 25,
   "id": "417d53ed",
   "metadata": {},
   "outputs": [
    {
     "name": "stdout",
     "output_type": "stream",
     "text": [
      "1-length,2-diameter,3-height,4-weight,5-shucked weight,6-viscera weight,7-shall weight,8-age\n"
     ]
    },
    {
     "data": {
      "text/plain": [
       "array([[ 1.575     ,  1.225     ,  0.375     , ...,  6.3219385 ,\n",
       "         9.63883   , 10.        ],\n",
       "       [ 1.2375    ,  1.        ,  0.375     , ...,  3.798833  ,\n",
       "         7.654365  , 19.        ],\n",
       "       [ 1.45      ,  1.1625    ,  0.4125    , ...,  7.01650125,\n",
       "         7.257472  , 11.        ],\n",
       "       ...,\n",
       "       [ 1.125     ,  0.9125    ,  0.2875    , ...,  1.984465  ,\n",
       "         3.118445  ,  7.        ],\n",
       "       [ 1.625     ,  1.275     ,  0.4125    , ...,  7.86698625,\n",
       "        10.489315  , 11.        ],\n",
       "       [ 1.5875    ,  1.25      ,  0.3875    , ...,  7.38504475,\n",
       "         8.788345  , 11.        ]])"
      ]
     },
     "execution_count": 25,
     "metadata": {},
     "output_type": "execute_result"
    }
   ],
   "source": [
    "print(\"1-length,2-diameter,3-height,4-weight,5-shucked weight,6-viscera weight,7-shall weight,8-age\")\n",
    "i = np.genfromtxt(r\"C:\\Users\\SANDIIP\\Downloads\\train_extended.csv\",delimiter=\",\",skip_header=1)\n",
    "i"
   ]
  },
  {
   "cell_type": "markdown",
   "id": "71acd1c7",
   "metadata": {},
   "source": [
    "\n",
    "# What is the min and max of length column"
   ]
  },
  {
   "cell_type": "code",
   "execution_count": 26,
   "id": "221b2181",
   "metadata": {},
   "outputs": [
    {
     "name": "stdout",
     "output_type": "stream",
     "text": [
      "7.58349125\n",
      "0.0\n"
     ]
    }
   ],
   "source": [
    "max = np.max(i[:,0])\n",
    "min = np.min(i[:,0])\n",
    "print(max)\n",
    "print(min)"
   ]
  },
  {
   "cell_type": "markdown",
   "id": "350a5ab2",
   "metadata": {},
   "source": [
    "\n",
    "# Difference between the max and min length of the length coloumn"
   ]
  },
  {
   "cell_type": "code",
   "execution_count": 27,
   "id": "4382cdfc",
   "metadata": {},
   "outputs": [
    {
     "name": "stdout",
     "output_type": "stream",
     "text": [
      "7.58349125\n"
     ]
    }
   ],
   "source": [
    "print(max-min)"
   ]
  },
  {
   "cell_type": "markdown",
   "id": "ba3d57f4",
   "metadata": {},
   "source": [
    "\n",
    "# Find coloumn wise age"
   ]
  },
  {
   "cell_type": "code",
   "execution_count": 28,
   "id": "0c2a66fa",
   "metadata": {},
   "outputs": [
    {
     "data": {
      "text/plain": [
       "array([10., 19., 11., ...,  7., 11., 11.])"
      ]
     },
     "execution_count": 28,
     "metadata": {},
     "output_type": "execute_result"
    }
   ],
   "source": [
    "i[:,7]"
   ]
  },
  {
   "cell_type": "markdown",
   "id": "e7fe53a7",
   "metadata": {},
   "source": [
    "\n",
    "# Find out all the age whose height is greater than 0.4"
   ]
  },
  {
   "cell_type": "code",
   "execution_count": 29,
   "id": "2abfaf52",
   "metadata": {},
   "outputs": [
    {
     "data": {
      "text/plain": [
       "array([11., 14., 13., ..., 11., 11., 11.])"
      ]
     },
     "execution_count": 29,
     "metadata": {},
     "output_type": "execute_result"
    }
   ],
   "source": [
    "i1 = i[i[:,2]>0.4]\n",
    "i1[:,7]"
   ]
  },
  {
   "cell_type": "markdown",
   "id": "85ea7823",
   "metadata": {},
   "source": [
    "\n",
    "# What is the avg weight and height of whose age is 10"
   ]
  },
  {
   "cell_type": "code",
   "execution_count": 30,
   "id": "c72a3854",
   "metadata": {},
   "outputs": [
    {
     "name": "stdout",
     "output_type": "stream",
     "text": [
      "Average Height is :  0.3833672856539947 \n",
      "\n",
      "Average Weight is :  28.243308450511314\n"
     ]
    }
   ],
   "source": [
    "i2 = i[i[:,7]==10]\n",
    "avg_height=i2[:,2]\n",
    "avg_weight=i2[:,3]\n",
    "print(\"Average Height is : \",np.mean(avg_height),\"\\n\")\n",
    "print(\"Average Weight is : \",np.mean(avg_weight))"
   ]
  },
  {
   "cell_type": "markdown",
   "id": "1884537c",
   "metadata": {},
   "source": [
    "\n",
    "# What is total of shell weight"
   ]
  },
  {
   "cell_type": "code",
   "execution_count": 31,
   "id": "f3db5ff6",
   "metadata": {},
   "outputs": [
    {
     "data": {
      "text/plain": [
       "1326845.8295214002"
      ]
     },
     "execution_count": 31,
     "metadata": {},
     "output_type": "execute_result"
    }
   ],
   "source": [
    "np.sum(i[:,6])"
   ]
  },
  {
   "cell_type": "markdown",
   "id": "9602e4d4",
   "metadata": {},
   "source": [
    "\n",
    "# How many persons belong to each and every unique age"
   ]
  },
  {
   "cell_type": "code",
   "execution_count": 34,
   "id": "c86bba78",
   "metadata": {},
   "outputs": [
    {
     "data": {
      "text/plain": [
       "(array([ 1.,  2.,  3.,  4.,  5.,  6.,  7.,  8.,  9., 10., 11., 12., 13.,\n",
       "        14., 15., 16., 17., 18., 19., 20., 21., 22., 23., 24., 25., 26.,\n",
       "        27., 29.]),\n",
       " array([   46,    42,   625,  2787,  5475, 12450, 18276, 26818, 32906,\n",
       "        30803, 23457, 12717, 10037,  6352,  4831,  3191,  2705,  1953,\n",
       "         1591,  1206,   721,   296,   352,   110,    51,    46,    99,\n",
       "           57], dtype=int64))"
      ]
     },
     "execution_count": 34,
     "metadata": {},
     "output_type": "execute_result"
    }
   ],
   "source": [
    "np.unique(i[:,7],return_counts=True)"
   ]
  },
  {
   "cell_type": "markdown",
   "id": "b17c8c97",
   "metadata": {},
   "source": [
    "\n",
    "# What is the difference between shucked weight and viscera weight"
   ]
  },
  {
   "cell_type": "code",
   "execution_count": 35,
   "id": "1139ef23",
   "metadata": {},
   "outputs": [
    {
     "data": {
      "text/plain": [
       "array([5.9817445, 3.855532 , 4.1106775, ..., 2.9199985, 5.329706 ,\n",
       "       9.8372765])"
      ]
     },
     "execution_count": 35,
     "metadata": {},
     "output_type": "execute_result"
    }
   ],
   "source": [
    "i[:,4]-i[:,5]"
   ]
  },
  {
   "cell_type": "markdown",
   "id": "fa772bec",
   "metadata": {},
   "source": [
    "\n",
    "# What is average height of the persons whose age is between 14 and 19"
   ]
  },
  {
   "cell_type": "code",
   "execution_count": 37,
   "id": "faf34e13",
   "metadata": {},
   "outputs": [
    {
     "data": {
      "text/plain": [
       "0.103115"
      ]
     },
     "execution_count": 37,
     "metadata": {},
     "output_type": "execute_result"
    }
   ],
   "source": [
    "i3 = (i[:,7]>=14) & (i[:,7]<=19)\n",
    "np.mean(i3)"
   ]
  },
  {
   "cell_type": "markdown",
   "id": "525deaf0",
   "metadata": {},
   "source": [
    "\n",
    "# What is the average weight if we include shucked weight and viscera weight and shell weight"
   ]
  },
  {
   "cell_type": "code",
   "execution_count": 39,
   "id": "a9274093",
   "metadata": {},
   "outputs": [
    {
     "data": {
      "text/plain": [
       "21.616780352404746"
      ]
     },
     "execution_count": 39,
     "metadata": {},
     "output_type": "execute_result"
    }
   ],
   "source": [
    "i4 = i[:,4]+i[:,5]+i[:,6]\n",
    "np.mean(i4)"
   ]
  }
 ],
 "metadata": {
  "kernelspec": {
   "display_name": "Python 3 (ipykernel)",
   "language": "python",
   "name": "python3"
  },
  "language_info": {
   "codemirror_mode": {
    "name": "ipython",
    "version": 3
   },
   "file_extension": ".py",
   "mimetype": "text/x-python",
   "name": "python",
   "nbconvert_exporter": "python",
   "pygments_lexer": "ipython3",
   "version": "3.10.9"
  }
 },
 "nbformat": 4,
 "nbformat_minor": 5
}
