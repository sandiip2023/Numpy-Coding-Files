{
  "nbformat": 4,
  "nbformat_minor": 0,
  "metadata": {
    "colab": {
      "provenance": []
    },
    "kernelspec": {
      "name": "python3",
      "display_name": "Python 3"
    },
    "language_info": {
      "name": "python"
    }
  },
  "cells": [
    {
      "cell_type": "code",
      "source": [
        "## Write a program to create a 5 dimensional array with all Zeros & Ones.\n",
        "\n",
        "import numpy as np\n",
        "\n",
        "np.array([[1,0,1,0,1,0,1,0,1,0,],[0,1,0,1,0,1,0,1,0,1]],ndmin=5)"
      ],
      "metadata": {
        "colab": {
          "base_uri": "https://localhost:8080/"
        },
        "id": "shDvnftTSnRS",
        "outputId": "d4289ea5-c9d3-4a6b-a910-8eee21d607a9"
      },
      "execution_count": 3,
      "outputs": [
        {
          "output_type": "execute_result",
          "data": {
            "text/plain": [
              "array([[[[[1, 0, 1, 0, 1, 0, 1, 0, 1, 0],\n",
              "          [0, 1, 0, 1, 0, 1, 0, 1, 0, 1]]]]])"
            ]
          },
          "metadata": {},
          "execution_count": 3
        }
      ]
    },
    {
      "cell_type": "code",
      "source": [
        "## Write a program to create an array of 10 Zeros, 10 Ones and 10 Fives in row 1,2 and 3 which create a new array of shape (3,10).\n",
        "\n",
        "np.array([[[0,0,0,0,0,0,0,0,0,0],[1,1,1,1,1,1,1,1,1,1],[5,5,5,5,5,5,5,5,5,5]]])"
      ],
      "metadata": {
        "colab": {
          "base_uri": "https://localhost:8080/"
        },
        "id": "ROJLFRCDS1G-",
        "outputId": "f40cfae7-4f4a-4254-d05e-75b730061b3a"
      },
      "execution_count": 5,
      "outputs": [
        {
          "output_type": "execute_result",
          "data": {
            "text/plain": [
              "array([[[0, 0, 0, 0, 0, 0, 0, 0, 0, 0],\n",
              "        [1, 1, 1, 1, 1, 1, 1, 1, 1, 1],\n",
              "        [5, 5, 5, 5, 5, 5, 5, 5, 5, 5]]])"
            ]
          },
          "metadata": {},
          "execution_count": 5
        }
      ]
    },
    {
      "cell_type": "code",
      "source": [
        "## Write a program to create a 3x4 matrix filled with values from 10 to 21.\n",
        "\n",
        "arr1 = np.arange(10,22).reshape(3,4)\n",
        "print(arr1)"
      ],
      "metadata": {
        "colab": {
          "base_uri": "https://localhost:8080/"
        },
        "id": "ZV7JuwWyTK4P",
        "outputId": "26974c11-2d94-46d7-d9d4-1b32f68ea9d7"
      },
      "execution_count": 7,
      "outputs": [
        {
          "output_type": "stream",
          "name": "stdout",
          "text": [
            "[[10 11 12 13]\n",
            " [14 15 16 17]\n",
            " [18 19 20 21]]\n"
          ]
        }
      ]
    },
    {
      "cell_type": "code",
      "source": [
        "## Write a program to create a 10x10 Zero matrix with elements on the main diagonal equal to 0,1,2,3,4,5,6,7,8,9\n",
        "\n",
        "np.arange(0,10,1)\n",
        "np.diag([0,1,2,3,4,5,6,7,8,9])"
      ],
      "metadata": {
        "colab": {
          "base_uri": "https://localhost:8080/"
        },
        "id": "Z3DU1Fg6TbTr",
        "outputId": "798da4b3-ae6b-4362-d58a-7331189b859c"
      },
      "execution_count": 8,
      "outputs": [
        {
          "output_type": "execute_result",
          "data": {
            "text/plain": [
              "array([[0, 0, 0, 0, 0, 0, 0, 0, 0, 0],\n",
              "       [0, 1, 0, 0, 0, 0, 0, 0, 0, 0],\n",
              "       [0, 0, 2, 0, 0, 0, 0, 0, 0, 0],\n",
              "       [0, 0, 0, 3, 0, 0, 0, 0, 0, 0],\n",
              "       [0, 0, 0, 0, 4, 0, 0, 0, 0, 0],\n",
              "       [0, 0, 0, 0, 0, 5, 0, 0, 0, 0],\n",
              "       [0, 0, 0, 0, 0, 0, 6, 0, 0, 0],\n",
              "       [0, 0, 0, 0, 0, 0, 0, 7, 0, 0],\n",
              "       [0, 0, 0, 0, 0, 0, 0, 0, 8, 0],\n",
              "       [0, 0, 0, 0, 0, 0, 0, 0, 0, 9]])"
            ]
          },
          "metadata": {},
          "execution_count": 8
        }
      ]
    },
    {
      "cell_type": "code",
      "source": [
        "## Write a program to create a 4x4 array. Create an array from below array by swapping first and last, second and third columns.\n",
        "\n",
        "arr2 = np.arange(1,17).reshape(4,4)\n",
        "arr2[:,[0,-1]] = arr2[:,[-1,0]]\n",
        "arr2[:,[1,2]] = arr2[:,[2,1]]\n",
        "arr2"
      ],
      "metadata": {
        "colab": {
          "base_uri": "https://localhost:8080/"
        },
        "id": "tM03Mt7pTg0v",
        "outputId": "932139f6-dfe8-404b-d5da-e3d2e6b16855"
      },
      "execution_count": 9,
      "outputs": [
        {
          "output_type": "execute_result",
          "data": {
            "text/plain": [
              "array([[ 4,  3,  2,  1],\n",
              "       [ 8,  7,  6,  5],\n",
              "       [12, 11, 10,  9],\n",
              "       [16, 15, 14, 13]])"
            ]
          },
          "metadata": {},
          "execution_count": 9
        }
      ]
    },
    {
      "cell_type": "code",
      "source": [
        "## What a program to reverse an array (The First Element Becomes the Last).\n",
        "## [51 52 53 54 55 56 57 58 59 60 61 62 63 64 65 66]\n",
        "\n",
        "arr3 = int(input())\n",
        "arr4 = int(input())\n",
        "x = np.arange(arr3,arr4+1)\n",
        "x[::-1]"
      ],
      "metadata": {
        "colab": {
          "base_uri": "https://localhost:8080/"
        },
        "id": "4ScF401cTo_E",
        "outputId": "3f3e3fa0-ce10-4637-c9eb-170fb20f25b6"
      },
      "execution_count": 11,
      "outputs": [
        {
          "name": "stdout",
          "output_type": "stream",
          "text": [
            "51\n",
            "66\n"
          ]
        },
        {
          "output_type": "execute_result",
          "data": {
            "text/plain": [
              "array([66, 65, 64, 63, 62, 61, 60, 59, 58, 57, 56, 55, 54, 53, 52, 51])"
            ]
          },
          "metadata": {},
          "execution_count": 11
        }
      ]
    },
    {
      "cell_type": "code",
      "source": [
        "## Write a program to access all the elements greater than 30 and less than 80 and multiples of 5 from an array of shape 10,10. Elements range from 1 to 100.\n",
        "\n",
        "arr5 = np.arange(1,101).reshape(10,10)\n",
        "arr5 = arr5[arr5%5==0]\n",
        "arr5 = arr5[arr5>30]\n",
        "arr5 = arr5[arr5<80]\n",
        "arr5"
      ],
      "metadata": {
        "colab": {
          "base_uri": "https://localhost:8080/"
        },
        "id": "tP0xpQvPTwx6",
        "outputId": "0a2ac7ae-ad7d-48c4-f7a4-ab600ba8478a"
      },
      "execution_count": 12,
      "outputs": [
        {
          "output_type": "execute_result",
          "data": {
            "text/plain": [
              "array([35, 40, 45, 50, 55, 60, 65, 70, 75])"
            ]
          },
          "metadata": {},
          "execution_count": 12
        }
      ]
    },
    {
      "cell_type": "code",
      "source": [
        "## Write a program to create a 2D array with 1 on the border and 0 inside.\n",
        "\n",
        "arr6 = np.ones((9,9),dtype=int)\n",
        "arr6[1:8,1:8] = 0\n",
        "arr6"
      ],
      "metadata": {
        "colab": {
          "base_uri": "https://localhost:8080/"
        },
        "id": "o4gRkyH-UDiT",
        "outputId": "5ea88a76-788b-4fab-ee3a-b8cb4b3c4178"
      },
      "execution_count": 13,
      "outputs": [
        {
          "output_type": "execute_result",
          "data": {
            "text/plain": [
              "array([[1, 1, 1, 1, 1, 1, 1, 1, 1],\n",
              "       [1, 0, 0, 0, 0, 0, 0, 0, 1],\n",
              "       [1, 0, 0, 0, 0, 0, 0, 0, 1],\n",
              "       [1, 0, 0, 0, 0, 0, 0, 0, 1],\n",
              "       [1, 0, 0, 0, 0, 0, 0, 0, 1],\n",
              "       [1, 0, 0, 0, 0, 0, 0, 0, 1],\n",
              "       [1, 0, 0, 0, 0, 0, 0, 0, 1],\n",
              "       [1, 0, 0, 0, 0, 0, 0, 0, 1],\n",
              "       [1, 1, 1, 1, 1, 1, 1, 1, 1]])"
            ]
          },
          "metadata": {},
          "execution_count": 13
        }
      ]
    },
    {
      "cell_type": "code",
      "source": [
        "## Write a program to create a checkerboard pattern .Don't use default array function Checkerboard pattern :\n",
        "\n",
        "# [0 1 0 1 0 1 0 1]\n",
        "# [1 0 1 0 1 0 1 0]\n",
        "# [0 1 0 1 0 1 0 1]\n",
        "# [1 0 1 0 1 0 1 0]\n",
        "# [0 1 0 1 0 1 0 1]\n",
        "# [1 0 1 0 1 0 1 0]\n",
        "\n",
        "arr7 = np.zeros((8,8),dtype=int)\n",
        "\n",
        "arr7[[0,0,0,0],[1,3,5,7]] = 1\n",
        "arr7[[1,1,1,1],[0,2,4,6]] = 1\n",
        "arr7[[2,2,2,2],[1,3,5,7]] = 1\n",
        "arr7[[3,3,3,3],[0,2,4,6]] = 1\n",
        "arr7[[4,4,4,4],[1,3,5,7]] = 1\n",
        "arr7[[5,5,5,5],[0,2,4,6]] = 1\n",
        "arr7[[6,6,6,6],[1,3,5,7]] = 1\n",
        "arr7[[7,7,7,7],[0,2,4,6]] = 1\n",
        "arr7"
      ],
      "metadata": {
        "colab": {
          "base_uri": "https://localhost:8080/"
        },
        "id": "djKHDPEnUJHI",
        "outputId": "b3d9a8bf-adbc-4c5c-b6fe-70e1b057f6d5"
      },
      "execution_count": 14,
      "outputs": [
        {
          "output_type": "execute_result",
          "data": {
            "text/plain": [
              "array([[0, 1, 0, 1, 0, 1, 0, 1],\n",
              "       [1, 0, 1, 0, 1, 0, 1, 0],\n",
              "       [0, 1, 0, 1, 0, 1, 0, 1],\n",
              "       [1, 0, 1, 0, 1, 0, 1, 0],\n",
              "       [0, 1, 0, 1, 0, 1, 0, 1],\n",
              "       [1, 0, 1, 0, 1, 0, 1, 0],\n",
              "       [0, 1, 0, 1, 0, 1, 0, 1],\n",
              "       [1, 0, 1, 0, 1, 0, 1, 0]])"
            ]
          },
          "metadata": {},
          "execution_count": 14
        }
      ]
    },
    {
      "cell_type": "code",
      "source": [
        "## Write a program to find common values between two arrays.\n",
        "\n",
        "#Expected Output :\n",
        "#                 array1 : [10 20 40 60]\n",
        "#                 array2 : [10 30 40 50]\n",
        "\n",
        "\n",
        "array1 = np.array([[1,2,3,4,5,6]])\n",
        "array2 = np.array([[4,5,6,7,8,9]])\n",
        "np.intersect1d(array1,array2)"
      ],
      "metadata": {
        "colab": {
          "base_uri": "https://localhost:8080/"
        },
        "id": "ozhWoYKzUlaV",
        "outputId": "cbaaa7fe-010e-4100-baf8-2edb9810c27d"
      },
      "execution_count": 16,
      "outputs": [
        {
          "output_type": "execute_result",
          "data": {
            "text/plain": [
              "array([4, 5, 6])"
            ]
          },
          "metadata": {},
          "execution_count": 16
        }
      ]
    },
    {
      "cell_type": "code",
      "source": [
        "## Write a program to create an array 2D array and then reshape into 1D array.\n",
        "\n",
        "i = np.arange(1,21).reshape(4,5)\n",
        "i.flatten()"
      ],
      "metadata": {
        "colab": {
          "base_uri": "https://localhost:8080/"
        },
        "id": "mziQZaV4Uvin",
        "outputId": "330079da-3933-4351-cf6d-4c3317fbf7f4"
      },
      "execution_count": 17,
      "outputs": [
        {
          "output_type": "execute_result",
          "data": {
            "text/plain": [
              "array([ 1,  2,  3,  4,  5,  6,  7,  8,  9, 10, 11, 12, 13, 14, 15, 16, 17,\n",
              "       18, 19, 20])"
            ]
          },
          "metadata": {},
          "execution_count": 17
        }
      ]
    },
    {
      "cell_type": "code",
      "source": [],
      "metadata": {
        "id": "qEhYYfGeU-cw"
      },
      "execution_count": null,
      "outputs": []
    }
  ]
}